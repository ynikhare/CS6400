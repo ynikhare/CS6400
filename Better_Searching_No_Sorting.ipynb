{
 "cells": [
  {
   "cell_type": "code",
   "execution_count": 1,
   "metadata": {},
   "outputs": [],
   "source": [
    "def lcp(x,y):\n",
    "    '''\n",
    "    Finding digging depth for the twin position\n",
    "    for the given sentence/paragraph.\n",
    "    input: words of twin position\n",
    "    output:least common values\n",
    "    '''\n",
    "    strip_x=[word for word in x for word in word.strip()]\n",
    "    strip_y=[word for word in y for word in word.strip()]\n",
    "    lcp=0\n",
    "    for i,j in zip(strip_x,strip_y):\n",
    "        if i==j:\n",
    "            lcp+=1\n",
    "        else:\n",
    "            break\n",
    "    return(lcp)"
   ]
  },
  {
   "cell_type": "code",
   "execution_count": 2,
   "metadata": {},
   "outputs": [],
   "source": [
    "def to_lcp(splitted_text):\n",
    "    '''\n",
    "    Uses lcp method to give the LCP values and creates a dictonary\n",
    "    containing the twin psotion and LCP values.\n",
    "    '''\n",
    "    a=0\n",
    "    b=len(splitted_text)-1\n",
    "    c={}\n",
    "    lcp1=[]\n",
    "    for i in splitted_text:\n",
    "        if a==b:\n",
    "            c.setdefault(splitted_text[a],[]).append(0)\n",
    "            lcp1.append(0)\n",
    "            break\n",
    "        else:\n",
    "            c.setdefault(splitted_text[a]+\"#\"+splitted_text[b],[]).append(lcp(splitted_text[a],splitted_text[b]))\n",
    "            lcp1.append(lcp(splitted_text[a],splitted_text[b]))\n",
    "            a+=1\n",
    "            b-=1\n",
    "    return(c,lcp1)"
   ]
  },
  {
   "cell_type": "code",
   "execution_count": 3,
   "metadata": {},
   "outputs": [],
   "source": [
    "def digging_depth(least_com_val):\n",
    "    '''\n",
    "    calculates the digging depth from the values obtained from LCP\n",
    "    '''\n",
    "    dig=[]\n",
    "    for i in least_com_val:\n",
    "        i+=1\n",
    "        dig.append(i)\n",
    "    return (dig)"
   ]
  },
  {
   "cell_type": "code",
   "execution_count": 4,
   "metadata": {},
   "outputs": [],
   "source": [
    "def swapped_text(splitted_text):\n",
    "    '''\n",
    "    This method is used for encrypting the given text by swapping\n",
    "    the text \n",
    "    '''\n",
    "    a=0\n",
    "    b=len(splitted_text)-1\n",
    "    for i in splitted_text:\n",
    "        if len(splitted_text[b])<len(splitted_text[a]):\n",
    "            splitted_text[a],splitted_text[b]=splitted_text[b],splitted_text[a]\n",
    "        elif(a==b):\n",
    "            break\n",
    "    return splitted_text"
   ]
  },
  {
   "cell_type": "code",
   "execution_count": 5,
   "metadata": {},
   "outputs": [],
   "source": [
    "def search_values(text,least_com_val,splitted_text):\n",
    "    '''\n",
    "    This method is used for searching the text in the sentence\n",
    "    Input: text to be searched, LCP and original text(for printing the text)\n",
    "    output: The position of the text\n",
    "    '''\n",
    "    reversed_text=least_com_val.copy()\n",
    "    reversed_text=reversed_text[::-1]\n",
    "    if len(least_com_val)%2==0:\n",
    "        values_lease=least_com_val+reversed_text[0:len(least_com_val)]\n",
    "    elif len(least_com_val)%2==1:\n",
    "        values_lease=least_com_val+reversed_text[1:len(least_com_val)]\n",
    "    text_strip=[word for word in text for word in word.strip()]\n",
    "    for i in range(0,len(splitted_text)):\n",
    "        original_text_strip=[word for word in splitted_text[i] for word in word.strip()]\n",
    "        if text_strip==original_text_strip[0:len(text)]: \n",
    "            print(splitted_text[i])\n",
    "            print(\"The Text is in original_word:\",i+1)\n",
    "    return"
   ]
  },
  {
   "cell_type": "code",
   "execution_count": 7,
   "metadata": {},
   "outputs": [],
   "source": [
    "#reading the text\n",
    "text=\"As she sat watching the world go by, something caught her eye.It wasn't so much its color or shape, but the way it was moving. She squinted to see if she could better understand what it was and where it was going, but it didn't help. As she continued to stare into the distance, she didn't understand why this uneasiness was building inside her body. She felt like she should get up and run. If only she could make out what it was. At that moment, she comprehended what it was and where it was heading, and she knew her life would never be the same.\""
   ]
  },
  {
   "cell_type": "code",
   "execution_count": 8,
   "metadata": {},
   "outputs": [
    {
     "name": "stdout",
     "output_type": "stream",
     "text": [
      "As she sat watching the world go by something caught her eyeIt wasnt so much its color or shape but the way it was moving She squinted to see if she could better understand what it was and where it was going but it didnt help As she continued to stare into the distance she didnt understand why this uneasiness was building inside her body She felt like she should get up and run If only she could make out what it was At that moment she comprehended what it was and where it was heading and she knew her life would never be the same\n"
     ]
    }
   ],
   "source": [
    "#importing the string to remove punctuations.\n",
    "import string\n",
    "text = text.translate(str.maketrans('', '', string.punctuation))\n",
    "print(text)"
   ]
  },
  {
   "cell_type": "code",
   "execution_count": 9,
   "metadata": {},
   "outputs": [
    {
     "name": "stdout",
     "output_type": "stream",
     "text": [
      "watching\n"
     ]
    }
   ],
   "source": [
    "search_text=str(input())"
   ]
  },
  {
   "cell_type": "code",
   "execution_count": 12,
   "metadata": {},
   "outputs": [
    {
     "name": "stdout",
     "output_type": "stream",
     "text": [
      "watching\n",
      "The Text is in original_word: 4\n"
     ]
    }
   ],
   "source": [
    "if __name__==\"__main__\":\n",
    "    splitted_text=text.split()\n",
    "    dic,least_com_val=to_lcp(splitted_text)\n",
    "    dig_values=digging_depth(least_com_val)\n",
    "    encrypt_text=swapped_text(splitted_text)\n",
    "    search_values(search_text,least_com_val,splitted_text)"
   ]
  },
  {
   "cell_type": "code",
   "execution_count": null,
   "metadata": {},
   "outputs": [],
   "source": []
  }
 ],
 "metadata": {
  "kernelspec": {
   "display_name": "Python 3",
   "language": "python",
   "name": "python3"
  },
  "language_info": {
   "codemirror_mode": {
    "name": "ipython",
    "version": 3
   },
   "file_extension": ".py",
   "mimetype": "text/x-python",
   "name": "python",
   "nbconvert_exporter": "python",
   "pygments_lexer": "ipython3",
   "version": "3.8.3"
  }
 },
 "nbformat": 4,
 "nbformat_minor": 4
}

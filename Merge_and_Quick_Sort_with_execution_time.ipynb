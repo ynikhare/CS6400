{
  "nbformat": 4,
  "nbformat_minor": 0,
  "metadata": {
    "colab": {
      "name": "Merge and Quick Sort with execution time.ipynb",
      "provenance": [],
      "collapsed_sections": []
    },
    "kernelspec": {
      "name": "python3",
      "display_name": "Python 3"
    },
    "language_info": {
      "name": "python"
    }
  },
  "cells": [
    {
      "cell_type": "markdown",
      "source": [
        "Merge Sort"
      ],
      "metadata": {
        "id": "XHn7UiP8RAno"
      }
    },
    {
      "cell_type": "code",
      "execution_count": 19,
      "metadata": {
        "id": "6oygokh9QhB3"
      },
      "outputs": [],
      "source": [
        "import random\n",
        "import datetime\n",
        "def MergeS(left,right):\n",
        " #Writing a fuction to merge two lists into two\n",
        " ext_space = [] #extra required memory\n",
        " while len(left) != 0 and len(right) != 0:\n",
        "  if left[0] < right[0]:\n",
        "   ext_space.append(left[0])\n",
        "   left.remove(left[0])\n",
        "  else:\n",
        "   ext_space.append(right[0])\n",
        "   right.remove(right[0])\n",
        " \n",
        " if len(left) == 0:\n",
        "  ext_space += right\n",
        " else:\n",
        "  ext_space += left\n",
        " return ext_space\n",
        "def MergeSortAsc(array):\n",
        " # Merge Sort Algorithm\n",
        " if len(array) == 0 or len(array) == 1:\n",
        "  return array\n",
        " else:\n",
        "  middle = int(len(array)/2)\n",
        "  left = MergeSortAsc(array[:middle])\n",
        "  right = MergeSortAsc(array[middle:])\n",
        "  return MergeS(left,right)"
      ]
    },
    {
      "cell_type": "code",
      "source": [
        "if __name__ == \"__main__\":\n",
        " array = [index for index in range(1, 100001)]\n",
        " random.shuffle(array)\n",
        " start = datetime.datetime.now()\n",
        " array = MergeSortAsc(array)\n",
        " end = datetime.datetime.now()\n",
        " print(\"It takes\", (end-start).total_seconds()*1000, \"ms to execute.\")"
      ],
      "metadata": {
        "colab": {
          "base_uri": "https://localhost:8080/"
        },
        "id": "3ArOu2HPQnmA",
        "outputId": "4393f770-6d66-4e5c-cc20-932fb70a152a"
      },
      "execution_count": 20,
      "outputs": [
        {
          "output_type": "stream",
          "name": "stdout",
          "text": [
            "It takes 2270.537 ms to execute.\n"
          ]
        }
      ]
    },
    {
      "cell_type": "markdown",
      "source": [
        "Quick Sort"
      ],
      "metadata": {
        "id": "MXDs7N4gRENj"
      }
    },
    {
      "cell_type": "code",
      "source": [
        "import random\n",
        "import datetime\n",
        "def part(arr, low, high):\n",
        "# Taking the index value of smaller element\n",
        " i = low - 1 \n",
        "# pivoting using the last element of the array\n",
        " piv = arr[high] \n",
        " for j in range(low, high): \n",
        "# case: if the element is smaller or equal to pivot\n",
        "  if arr[j] <= piv:\n",
        "# increasing the index value of smaller element\n",
        "   i = i+1\n",
        "#swaping  two elements: arr[i] and arr[j]   \n",
        "   arr[i], arr[j] = arr[j], arr[i] \n",
        " \n",
        " arr[i+1], arr[high] = arr[high], arr[i+1] \n",
        " return i+1 \n",
        "# Quick Sort Algorithm \n",
        "def QuickS(arr, low, high):\n",
        " if low < high:\n",
        "# Dividing Index\n",
        "  partition = part(arr, low, high)\n",
        "# Sorting before and after dividing\n",
        "  QuickS(arr, low, partition-1)\n",
        "  QuickS(arr, partition+1, high)\n",
        " return"
      ],
      "metadata": {
        "id": "iaY5KNbPQsip"
      },
      "execution_count": 21,
      "outputs": []
    },
    {
      "cell_type": "code",
      "source": [
        "if __name__ == \"__main__\":\n",
        " array = [index for index in range(1, 100001)]\n",
        " random.shuffle(array)\n",
        " start = datetime.datetime.now()\n",
        " QuickS(array, 0, len(array)-1)\n",
        " end = datetime.datetime.now()\n",
        " print(\"It takes\", (end-start).total_seconds()*1000,  \"ms to execute.\")"
      ],
      "metadata": {
        "colab": {
          "base_uri": "https://localhost:8080/"
        },
        "id": "STgD--RoRGTt",
        "outputId": "e2986b8d-76ec-4429-8522-1b3e5422cc9e"
      },
      "execution_count": 22,
      "outputs": [
        {
          "output_type": "stream",
          "name": "stdout",
          "text": [
            "It takes 350.437 ms to execute.\n"
          ]
        }
      ]
    },
    {
      "cell_type": "code",
      "source": [
        ""
      ],
      "metadata": {
        "id": "wu2zpR5NRLNR"
      },
      "execution_count": null,
      "outputs": []
    }
  ]
}
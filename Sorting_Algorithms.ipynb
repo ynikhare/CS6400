{
  "nbformat": 4,
  "nbformat_minor": 0,
  "metadata": {
    "colab": {
      "name": "Sorting Algorithms.ipynb",
      "provenance": [],
      "collapsed_sections": []
    },
    "kernelspec": {
      "name": "python3",
      "display_name": "Python 3"
    },
    "language_info": {
      "name": "python"
    }
  },
  "cells": [
    {
      "cell_type": "markdown",
      "metadata": {
        "id": "h7t4KcLMFAM7"
      },
      "source": [
        "We implement Merge Sort, to compare the complexity with our algorithm.\n",
        "\n",
        "Merge Sort is a Divide and Conquer algorithm. It divides the input array into two halves, calls itself for the two halves, and then merges the two sorted halves."
      ]
    },
    {
      "cell_type": "markdown",
      "metadata": {
        "id": "NCi-lQ1-Fe7O"
      },
      "source": [
        "Time complexity of merge sort is O(n log n). It is also a stable sort, i.e. equal elements are in the same order in the sorted list.\n",
        "\n",
        "We can assume k = 1"
      ]
    },
    {
      "cell_type": "code",
      "metadata": {
        "id": "ww1Xy7P7D7MJ"
      },
      "source": [
        "def merge_sort(list):\n",
        "    #Storing the lenght of the list\n",
        "    list_len = len(list)\n",
        "\n",
        "    #if the list length is less, it is considered as sorted\n",
        "    if list_len == 1:\n",
        "        return list\n",
        "\n",
        "    #Finding a midpoint and making partition into left and right\n",
        "    mid_pnt = list_len // 2\n",
        "\n",
        "    left_partition = merge_sort(list[:mid_pnt])\n",
        "    right_partition = merge_sort(list[mid_pnt:])\n",
        "\n",
        "    return merge(left_partition, right_partition)"
      ],
      "execution_count": null,
      "outputs": []
    },
    {
      "cell_type": "code",
      "metadata": {
        "id": "g5NwScNtEGhs"
      },
      "source": [
        "# merging two sorted lists\n",
        "def merge(left, right):\n",
        "   \n",
        "    output = []\n",
        "    i = j = 0\n",
        "\n",
        "    while i < len(left) and j < len(right):\n",
        "        if left[i] < right[j]:\n",
        "            \n",
        "            output.append(left[i])\n",
        "            \n",
        "            i += 1\n",
        "        else:\n",
        "            output.append(right[j])\n",
        "            j += 1\n",
        "    output.extend(left[i:])\n",
        "    output.extend(right[j:])\n",
        "\n",
        "    return output"
      ],
      "execution_count": null,
      "outputs": []
    },
    {
      "cell_type": "code",
      "metadata": {
        "id": "SgolQlB6ExkQ"
      },
      "source": [
        "def run_merge_sort():\n",
        "    unsorted_list  = [5, 4, 12, 7, 2, 13, 1, 1, 6, 4, 10, 33, 25, 17, 28]\n",
        "    print(unsorted_list)\n",
        "    sorted_list = merge_sort(unsorted_list)\n",
        "    print(sorted_list)"
      ],
      "execution_count": null,
      "outputs": []
    },
    {
      "cell_type": "code",
      "metadata": {
        "colab": {
          "base_uri": "https://localhost:8080/"
        },
        "id": "5Ik0zULnE3yJ",
        "outputId": "216121ac-cef1-47e8-bbe9-18a251617316"
      },
      "source": [
        "run_merge_sort()"
      ],
      "execution_count": null,
      "outputs": [
        {
          "output_type": "stream",
          "name": "stdout",
          "text": [
            "[5, 4, 12, 7, 2, 13, 1, 1, 6, 4, 10, 33, 25, 17, 28]\n",
            "[1, 1, 2, 4, 4, 5, 6, 7, 10, 12, 13, 17, 25, 28, 33]\n"
          ]
        }
      ]
    },
    {
      "cell_type": "markdown",
      "metadata": {
        "id": "AMwwOLrOGgmm"
      },
      "source": [
        "Implementation of Quick Sort.\n",
        "\n",
        "A sorting technique that sequences a list by continuously dividing the list into two parts and moving the lower items to one side and the higher items to the other. It starts by picking one item in the entire list to serve as a pivot point. The pivot could be the first item or a randomly chosen one."
      ]
    },
    {
      "cell_type": "markdown",
      "metadata": {
        "id": "ksqpDGqUGwks"
      },
      "source": [
        "If we assume the length of an element k = 1, which gives the complexity of O(n log n) in average case scenario, which is equal to the merge sort."
      ]
    },
    {
      "cell_type": "code",
      "metadata": {
        "id": "9hH1WrjWE5mH"
      },
      "source": [
        "def partition(arry, low, high):\n",
        "    i = (low-1)         \n",
        "    pivot = arry[high]     # pivot point\n",
        "  \n",
        "    for j in range(low, high):\n",
        "  \n",
        "        # returning, in case if the key is smaller or equal to pivot point\n",
        "        if arry[j] <= pivot:\n",
        "  \n",
        "            # incrementing \n",
        "            i = i+1\n",
        "            arry[i], arry[j] = arry[j], arry[i]\n",
        "  \n",
        "    arry[i+1], arry[high] = arry[high], arry[i+1]\n",
        "    return (i+1)\n"
      ],
      "execution_count": null,
      "outputs": []
    },
    {
      "cell_type": "code",
      "metadata": {
        "id": "79_LmZ8CItMX"
      },
      "source": [
        "def quickSort(arry, low, high):\n",
        "    if len(arry) == 1:\n",
        "        return arry\n",
        "    if low < high:\n",
        "  \n",
        "        pi = partition(arry, low, high)\n",
        "\n",
        "        #Sorting element before and after and partition\n",
        "        quickSort(arry, low, pi-1)\n",
        "        quickSort(arry, pi+1, high)"
      ],
      "execution_count": null,
      "outputs": []
    },
    {
      "cell_type": "code",
      "metadata": {
        "colab": {
          "base_uri": "https://localhost:8080/"
        },
        "id": "1KqiKLVNIw3_",
        "outputId": "b8bbd892-9bc5-4d58-d4c8-1da3a0a53cd1"
      },
      "source": [
        "# example of an array to sort\n",
        "arry = [20, 7, 6, 9, 1, 15]\n",
        "n = len(arry)\n",
        "quickSort(arry, 0, n-1)\n",
        "print(\"Sorted array is:\")\n",
        "for i in range(n):\n",
        "    print(\"%d\" % arry[i]),"
      ],
      "execution_count": null,
      "outputs": [
        {
          "output_type": "stream",
          "name": "stdout",
          "text": [
            "Sorted array is:\n",
            "1\n",
            "6\n",
            "7\n",
            "9\n",
            "15\n",
            "20\n"
          ]
        }
      ]
    },
    {
      "cell_type": "code",
      "metadata": {
        "id": "O31PYU8gIzqw"
      },
      "source": [
        ""
      ],
      "execution_count": null,
      "outputs": []
    }
  ]
}